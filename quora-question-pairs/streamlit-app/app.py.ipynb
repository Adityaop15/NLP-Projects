{
 "cells": [
  {
   "cell_type": "code",
   "execution_count": null,
   "id": "4f923076",
   "metadata": {},
   "outputs": [],
   "source": [
    "import streamlit as st\n",
    "import helper\n",
    "import pickle\n",
    "\n",
    "model = pickle.load(open('model.pkl','rb'))\n",
    "\n",
    "st.header('Duplicate Question Pairs')\n",
    "\n",
    "q1 = st.text_input('Enter question 1')\n",
    "q2 = st.text_input('Enter question 2')\n",
    "\n",
    "if st.button('Find'):\n",
    "    query = helper.query_point_creator(q1,q2)\n",
    "    result = model.predict(query)[0]\n",
    "\n",
    "    if result:\n",
    "        st.header('Duplicate')\n",
    "    else:\n",
    "        st.header('Not Duplicate')\n"
   ]
  }
 ],
 "metadata": {
  "kernelspec": {
   "display_name": "Python 3 (ipykernel)",
   "language": "python",
   "name": "python3"
  },
  "language_info": {
   "codemirror_mode": {
    "name": "ipython",
    "version": 3
   },
   "file_extension": ".py",
   "mimetype": "text/x-python",
   "name": "python",
   "nbconvert_exporter": "python",
   "pygments_lexer": "ipython3",
   "version": "3.9.7"
  }
 },
 "nbformat": 4,
 "nbformat_minor": 5
}
